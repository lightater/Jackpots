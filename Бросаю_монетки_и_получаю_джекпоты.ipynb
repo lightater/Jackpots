{
  "nbformat": 4,
  "nbformat_minor": 0,
  "metadata": {
    "colab": {
      "name": "Бросаю монетки и получаю джекпоты",
      "provenance": [],
      "collapsed_sections": []
    },
    "kernelspec": {
      "name": "python3",
      "display_name": "Python 3"
    }
  },
  "cells": [
    {
      "cell_type": "markdown",
      "metadata": {
        "id": "iBObty-jceBo",
        "colab_type": "text"
      },
      "source": [
        "Суть того, что я тут делаю, такова. Я подаю на вход модели значения m монеток (0/1).\n",
        "На основании этих данных она делает предсказание для заданного массива данных (он генерируется случайно, его длина N).\n",
        "И я получаю точность модели. Задача - найти такое m, при котором точность почти 100% и такое m, при котором точность невелика."
      ]
    },
    {
      "cell_type": "code",
      "metadata": {
        "id": "XHpObFWOP0TX",
        "colab_type": "code",
        "colab": {}
      },
      "source": [
        "import numpy as np\n",
        "from sklearn.ensemble import RandomForestClassifier\n",
        "import matplotlib as plt"
      ],
      "execution_count": null,
      "outputs": []
    },
    {
      "cell_type": "code",
      "metadata": {
        "id": "61NOAS8DN_gD",
        "colab_type": "code",
        "colab": {}
      },
      "source": [
        "def getAccuracy(m, N, digits_num):\n",
        "  predict = np.random.randint(digits_num, size=N)\n",
        "  train = np.empty(shape=(N, m))\n",
        "  for i in range(N):\n",
        "    train[i] = np.random.randint(2, size=m)\n",
        "  rfr = RandomForestClassifier()\n",
        "  rfr.fit(train, predict)\n",
        "  return rfr.score(train, predict)"
      ],
      "execution_count": null,
      "outputs": []
    },
    {
      "cell_type": "code",
      "metadata": {
        "id": "W9NDjtoVbaWB",
        "colab_type": "code",
        "colab": {}
      },
      "source": [
        "def printAccuracy(N, m, digits_num, num_loops):\n",
        "  acc_sum = 0\n",
        "  for i in range(num_loops):\n",
        "    acc_sum += getAccuracy(m, N, digits_num)\n",
        "  acc_sum /= num_loops\n",
        "  print(f'For N = {N}, m = {m}, digits_num = {digits_num}, accuracy is {acc_sum}')"
      ],
      "execution_count": null,
      "outputs": []
    },
    {
      "cell_type": "code",
      "metadata": {
        "id": "IfzbKTW4PvrO",
        "colab_type": "code",
        "colab": {
          "base_uri": "https://localhost:8080/",
          "height": 34
        },
        "outputId": "cf8a485f-fe67-4abf-e70e-0f460798500f"
      },
      "source": [
        "printAccuracy(15, 10, 2, 10)"
      ],
      "execution_count": null,
      "outputs": [
        {
          "output_type": "stream",
          "text": [
            "For N = 15, m = 10, digits_num = 2, accuracy is 0.9933333333333334\n"
          ],
          "name": "stdout"
        }
      ]
    },
    {
      "cell_type": "code",
      "metadata": {
        "id": "Ck9tmnMqUIlO",
        "colab_type": "code",
        "colab": {
          "base_uri": "https://localhost:8080/",
          "height": 34
        },
        "outputId": "2f425aea-2a7c-462b-97e9-4286bbba4ae3"
      },
      "source": [
        "printAccuracy(10**3, 15, 2, 20)"
      ],
      "execution_count": null,
      "outputs": [
        {
          "output_type": "stream",
          "text": [
            "For N = 1000, m = 15, digits_num = 2, accuracy is 0.9920999999999998\n"
          ],
          "name": "stdout"
        }
      ]
    },
    {
      "cell_type": "code",
      "metadata": {
        "id": "ePKS5Hh7UYFt",
        "colab_type": "code",
        "colab": {
          "base_uri": "https://localhost:8080/",
          "height": 34
        },
        "outputId": "8d707b77-7f53-40cb-cf83-888440e3f299"
      },
      "source": [
        "printAccuracy(10**4, 25, 2, 20)"
      ],
      "execution_count": null,
      "outputs": [
        {
          "output_type": "stream",
          "text": [
            "For N = 10000, m = 25, digits_num = 2, accuracy is 0.9999400000000002\n"
          ],
          "name": "stdout"
        }
      ]
    },
    {
      "cell_type": "markdown",
      "metadata": {
        "id": "9nub2-IDcU3C",
        "colab_type": "text"
      },
      "source": [
        "Результат: 2*log2(N) выдает 99.98%+ точности, что равно 100%.\n",
        "Тут важно понимать, что N - бинарная фича. Поэтому стоит посмотреть, что будет при небинарной. \n",
        "В конечной цели надо найти количество фичей, которое будет генерировать точность 100% и 50% и написать примерную формулу для того, чтобы понимать, сколько фичей брать."
      ]
    },
    {
      "cell_type": "code",
      "metadata": {
        "id": "RWiK7ooxVJu0",
        "colab_type": "code",
        "colab": {
          "base_uri": "https://localhost:8080/",
          "height": 34
        },
        "outputId": "e7e8fd5c-5ab3-4ac2-ff56-9efa1dcc57e9"
      },
      "source": [
        "printAccuracy(10**5, 30, 2, 20) # Эта считается 5+ минут"
      ],
      "execution_count": null,
      "outputs": [
        {
          "output_type": "stream",
          "text": [
            "For N = 100000, m = 30, digits_num = 2, accuracy is 0.9999770000000001\n"
          ],
          "name": "stdout"
        }
      ]
    },
    {
      "cell_type": "markdown",
      "metadata": {
        "id": "682eomuQcavI",
        "colab_type": "text"
      },
      "source": [
        "Теперь посчитаю для n_digits > 2"
      ]
    },
    {
      "cell_type": "code",
      "metadata": {
        "id": "EuJjq76ZW9SU",
        "colab_type": "code",
        "colab": {
          "base_uri": "https://localhost:8080/",
          "height": 34
        },
        "outputId": "c042731f-ecff-4e21-8454-7bf564517c80"
      },
      "source": [
        "printAccuracy(10**3, 20, 10, 20)"
      ],
      "execution_count": null,
      "outputs": [
        {
          "output_type": "stream",
          "text": [
            "For N = 1000, m = 20, digits_num = 10, accuracy is 0.9994499999999998\n"
          ],
          "name": "stdout"
        }
      ]
    },
    {
      "cell_type": "code",
      "metadata": {
        "id": "mtJHN5SqXWNj",
        "colab_type": "code",
        "colab": {}
      },
      "source": [
        "printAccuracy(10**3, 20, 100, 20)"
      ],
      "execution_count": null,
      "outputs": []
    },
    {
      "cell_type": "code",
      "metadata": {
        "id": "j8r6G5TyXvY1",
        "colab_type": "code",
        "colab": {
          "base_uri": "https://localhost:8080/",
          "height": 34
        },
        "outputId": "67068832-7eda-4d46-82b3-babc29499958"
      },
      "source": [
        "printAccuracy(10**3, 20, 10**3, 20)"
      ],
      "execution_count": null,
      "outputs": [
        {
          "output_type": "stream",
          "text": [
            "For N = 1000, m = 20, digits_num = 1000, accuracy is 0.9996499999999999\n"
          ],
          "name": "stdout"
        }
      ]
    },
    {
      "cell_type": "code",
      "metadata": {
        "id": "4zzp1cjmXwy8",
        "colab_type": "code",
        "colab": {
          "base_uri": "https://localhost:8080/",
          "height": 34
        },
        "outputId": "8efc19dd-8e0e-42c3-d839-4e7624612be9"
      },
      "source": [
        "printAccuracy(10**3, 20, 10**4, 20)"
      ],
      "execution_count": null,
      "outputs": [
        {
          "output_type": "stream",
          "text": [
            "For N = 1000, m = 20, digits_num = 10000, accuracy is 0.9994999999999999\n"
          ],
          "name": "stdout"
        }
      ]
    },
    {
      "cell_type": "markdown",
      "metadata": {
        "id": "SRN_SEu_ckLR",
        "colab_type": "text"
      },
      "source": [
        "Разница заключается в том, что в случае digits_num ~ N нужно предсказывать уникальную фичу, т.е ответ это количество уникальных наборов бросков монеты.\n",
        "В случае, когда digits_num < N, то количество вещей, который надо предсказать, падает. Как - непонятно, но это и не важно.\n",
        "Важно то, что для классификатора формула 2*log2(N) работает.\n",
        "Понятно, что обычно в датасете фичи зависят друг от друга, поэтому их может быть больше. \n",
        "Осталось выяснить, сколько фичей дают 90% точности, чтобы понять суеверия."
      ]
    },
    {
      "cell_type": "code",
      "metadata": {
        "id": "qDCLt11ZYwir",
        "colab_type": "code",
        "colab": {
          "base_uri": "https://localhost:8080/",
          "height": 34
        },
        "outputId": "7778a56c-2514-40ae-dcb1-c3fee58dd3a5"
      },
      "source": [
        "printAccuracy(10**3, 12, 10**3, 20) #"
      ],
      "execution_count": null,
      "outputs": [
        {
          "output_type": "stream",
          "text": [
            "For N = 1000, m = 12, digits_num = 1000, accuracy is 0.8896\n"
          ],
          "name": "stdout"
        }
      ]
    },
    {
      "cell_type": "code",
      "metadata": {
        "id": "dA_0XhMWZA3T",
        "colab_type": "code",
        "colab": {
          "base_uri": "https://localhost:8080/",
          "height": 34
        },
        "outputId": "c641ed73-1241-4c0f-803f-3bf25338b534"
      },
      "source": [
        "printAccuracy(10**2, 8, 10**3, 20)"
      ],
      "execution_count": null,
      "outputs": [
        {
          "output_type": "stream",
          "text": [
            "For N = 100, m = 8, digits_num = 1000, accuracy is 0.821\n"
          ],
          "name": "stdout"
        }
      ]
    },
    {
      "cell_type": "markdown",
      "metadata": {
        "id": "ybTxq-wIcqTF",
        "colab_type": "text"
      },
      "source": [
        "Формула - 4 * log10(N) = 1.3 * log2(N).\n",
        "Так, надо выяснить, как дело обстоит для m = log2(N).\n"
      ]
    },
    {
      "cell_type": "code",
      "metadata": {
        "id": "8PCsEOvSZ8eM",
        "colab_type": "code",
        "colab": {
          "base_uri": "https://localhost:8080/",
          "height": 34
        },
        "outputId": "ca45ed7f-8b0d-4b14-f44f-d5688f20535e"
      },
      "source": [
        "printAccuracy(10**3, 10, 10**3, 20)"
      ],
      "execution_count": null,
      "outputs": [
        {
          "output_type": "stream",
          "text": [
            "For N = 1000, m = 10, digits_num = 1000, accuracy is 0.63885\n"
          ],
          "name": "stdout"
        }
      ]
    },
    {
      "cell_type": "markdown",
      "metadata": {
        "id": "FB1VFOh8cyw8",
        "colab_type": "text"
      },
      "source": [
        "Около 65%. Итак, значит, log2(N) - максимальное число независимых фичей, выше брать не надо.\n",
        "Теперь можно проверить оба утверждения (m = log2(N) и m = 2*log2(N)) на N = 10**4, чтобы убедиться, что все верно и на этом закончить.\n",
        "\n",
        "UPDATE. Мне не хватило RAM у колаба, поэтому код есть, но он крашится.\n"
      ]
    },
    {
      "cell_type": "code",
      "metadata": {
        "id": "tgmtCDedad40",
        "colab_type": "code",
        "colab": {}
      },
      "source": [
        "#printAccuracy(10**4, 30, 10**3, 20)\n",
        "#printAccuracy(10**4, 15, 10**3, 20)"
      ],
      "execution_count": null,
      "outputs": []
    },
    {
      "cell_type": "markdown",
      "metadata": {
        "id": "LDSQG7fNzBN_",
        "colab_type": "text"
      },
      "source": [
        "Теперь можно глянуть на то, появляется ли монетка, важность которой будет намного больше остальных."
      ]
    },
    {
      "cell_type": "code",
      "metadata": {
        "id": "XMD53zCxzF3U",
        "colab_type": "code",
        "colab": {
          "base_uri": "https://localhost:8080/",
          "height": 282
        },
        "outputId": "7396ca33-6b1c-4a1d-d99d-986d3945089c"
      },
      "source": [
        "digits_num = 1000\n",
        "N = 10**3\n",
        "m = 15\n",
        "\n",
        "predict = np.random.randint(digits_num, size=N)\n",
        "train = np.empty(shape=(N, m))\n",
        "for i in range(N):\n",
        "  train[i] = np.random.randint(2, size=m)\n",
        "rfr = RandomForestClassifier()\n",
        "rfr.fit(train, predict)\n",
        "plt.pyplot.plot(rfr.feature_importances_)\n"
      ],
      "execution_count": null,
      "outputs": [
        {
          "output_type": "execute_result",
          "data": {
            "text/plain": [
              "[<matplotlib.lines.Line2D at 0x7f95d706b0f0>]"
            ]
          },
          "metadata": {
            "tags": []
          },
          "execution_count": 16
        },
        {
          "output_type": "display_data",
          "data": {
            "image/png": "[encoded data removed]",
            "text/plain": [
              "<Figure size 432x288 with 1 Axes>"
            ]
          },
          "metadata": {
            "tags": [],
            "needs_background": "light"
          }
        }
      ]
    },
    {
      "cell_type": "markdown",
      "metadata": {
        "id": "BdIDovpSzxpM",
        "colab_type": "text"
      },
      "source": [
        "Видно, что некоторые монетки более важные, но разница порядка 15%. Увеличу количество монеток."
      ]
    },
    {
      "cell_type": "code",
      "metadata": {
        "id": "LuxaLD4yzm0g",
        "colab_type": "code",
        "colab": {
          "base_uri": "https://localhost:8080/",
          "height": 282
        },
        "outputId": "6d41daed-3ad6-4d7f-a9ea-8734a2678c61"
      },
      "source": [
        "digits_num = 1000\n",
        "N = 10**3\n",
        "m = 30\n",
        "\n",
        "predict = np.random.randint(digits_num, size=N)\n",
        "train = np.empty(shape=(N, m))\n",
        "for i in range(N):\n",
        "  train[i] = np.random.randint(2, size=m)\n",
        "rfr = RandomForestClassifier()\n",
        "rfr.fit(train, predict)\n",
        "plt.pyplot.plot(rfr.feature_importances_)"
      ],
      "execution_count": null,
      "outputs": [
        {
          "output_type": "execute_result",
          "data": {
            "text/plain": [
              "[<matplotlib.lines.Line2D at 0x7f95d70fcc88>]"
            ]
          },
          "metadata": {
            "tags": []
          },
          "execution_count": 15
        },
        {
          "output_type": "display_data",
          "data": {
            "image/png": "[encoded data removed]",
            "text/plain": [
              "<Figure size 432x288 with 1 Axes>"
            ]
          },
          "metadata": {
            "tags": [],
            "needs_background": "light"
          }
        }
      ]
    },
    {
      "cell_type": "markdown",
      "metadata": {
        "id": "54oiNnfoz_ck",
        "colab_type": "text"
      },
      "source": [
        "Чем больше монеток, тем меньше средний разброс."
      ]
    },
    {
      "cell_type": "code",
      "metadata": {
        "id": "XChamU8tz7t0",
        "colab_type": "code",
        "colab": {
          "base_uri": "https://localhost:8080/",
          "height": 286
        },
        "outputId": "58bc0a97-69f2-48e7-8c00-80fa8a5f5a60"
      },
      "source": [
        "digits_num = 1000\n",
        "N = 10**3\n",
        "m = 5\n",
        "\n",
        "predict = np.random.randint(digits_num, size=N)\n",
        "train = np.empty(shape=(N, m))\n",
        "for i in range(N):\n",
        "  train[i] = np.random.randint(2, size=m)\n",
        "rfr = RandomForestClassifier()\n",
        "rfr.fit(train, predict)\n",
        "plt.pyplot.plot(rfr.feature_importances_)"
      ],
      "execution_count": null,
      "outputs": [
        {
          "output_type": "execute_result",
          "data": {
            "text/plain": [
              "[<matplotlib.lines.Line2D at 0x7f95d7057278>]"
            ]
          },
          "metadata": {
            "tags": []
          },
          "execution_count": 17
        },
        {
          "output_type": "display_data",
          "data": {
            "image/png": "[encoded data removed]",
            "text/plain": [
              "<Figure size 432x288 with 1 Axes>"
            ]
          },
          "metadata": {
            "tags": [],
            "needs_background": "light"
          }
        }
      ]
    },
    {
      "cell_type": "markdown",
      "metadata": {
        "id": "1JaWyT240oDJ",
        "colab_type": "text"
      },
      "source": [
        "Соответственно, чем меньше монеток, тем больше разброс. Тут уже 30%. "
      ]
    },
    {
      "cell_type": "markdown",
      "metadata": {
        "id": "ZbokP_2A0zWb",
        "colab_type": "text"
      },
      "source": [
        "Можно считать это математической моделью суеверий. Настоящие суеверия куда сложнее - например, если монетка в начале стала немного более важной, то на неё будут смотреть больше, и при увеличении N её важность должна расти. Тут же такого не происходит, поскольку модель не зависит от порядка входных данных."
      ]
    },
    {
      "cell_type": "code",
      "metadata": {
        "id": "4tORgnDt0msF",
        "colab_type": "code",
        "colab": {
          "base_uri": "https://localhost:8080/",
          "height": 282
        },
        "outputId": "21cd9006-93a3-4319-8b62-c542975cc79c"
      },
      "source": [
        "digits_num = 1000\n",
        "N = 10**6\n",
        "m = 5\n",
        "\n",
        "predict = np.random.randint(digits_num, size=N)\n",
        "train = np.empty(shape=(N, m))\n",
        "for i in range(N):\n",
        "  train[i] = np.random.randint(2, size=m)\n",
        "rfr = RandomForestClassifier()\n",
        "rfr.fit(train, predict)\n",
        "plt.pyplot.plot(rfr.feature_importances_)"
      ],
      "execution_count": null,
      "outputs": [
        {
          "output_type": "execute_result",
          "data": {
            "text/plain": [
              "[<matplotlib.lines.Line2D at 0x7f95d7187198>]"
            ]
          },
          "metadata": {
            "tags": []
          },
          "execution_count": 19
        },
        {
          "output_type": "display_data",
          "data": {
            "image/png": "[encoded data removed]",
            "text/plain": [
              "<Figure size 432x288 with 1 Axes>"
            ]
          },
          "metadata": {
            "tags": [],
            "needs_background": "light"
          }
        }
      ]
    },
    {
      "cell_type": "markdown",
      "metadata": {
        "id": "NkqoMcSs1W9U",
        "colab_type": "text"
      },
      "source": [
        "Можно попробовать сделать модель сложнее, но я не вижу в этом смысла. Цель этой модели - просто прикинуть, сколько нужно монеток, чтобы полностью описать набор событий (2 * log2(N)). Я не вижу здесь больше простых улучшений, поэтому на этом заканчиваю."
      ]
    }
  ]
}